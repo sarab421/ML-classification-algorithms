{
  "nbformat": 4,
  "nbformat_minor": 0,
  "metadata": {
    "colab": {
      "provenance": [],
      "mount_file_id": "1cfcvrVh2MG-5fml511q1I-hBLLKKzVVX",
      "authorship_tag": "ABX9TyP66+Iq2LXDWmijc/3j15UN",
      "include_colab_link": true
    },
    "kernelspec": {
      "name": "python3",
      "display_name": "Python 3"
    },
    "language_info": {
      "name": "python"
    }
  },
  "cells": [
    {
      "cell_type": "markdown",
      "metadata": {
        "id": "view-in-github",
        "colab_type": "text"
      },
      "source": [
        "<a href=\"https://colab.research.google.com/github/sarab421/ML-classification-algorithms/blob/main/compairingclassificationalgorithms.ipynb\" target=\"_parent\"><img src=\"https://colab.research.google.com/assets/colab-badge.svg\" alt=\"Open In Colab\"/></a>"
      ]
    },
    {
      "cell_type": "code",
      "source": [
        "import pandas as pd\n",
        "\n",
        "# Load the dataset (assuming it's named 'titanic.csv')\n",
        "df = pd.read_csv('/content/drive/MyDrive/Colab Notebooks/Assignment1 8th semester/titanic.csv')\n",
        "\n",
        "# Display the first few rows of the dataset\n",
        "print(df.head(20))"
      ],
      "metadata": {
        "colab": {
          "base_uri": "https://localhost:8080/"
        },
        "id": "2t1ovMcK3Y7N",
        "outputId": "f110a38e-2eb4-4cb4-a79e-bb992d232e88"
      },
      "execution_count": null,
      "outputs": [
        {
          "output_type": "stream",
          "name": "stdout",
          "text": [
            "    PassengerId  Survived  Pclass  \\\n",
            "0             1         0       3   \n",
            "1             2         1       1   \n",
            "2             3         1       3   \n",
            "3             4         1       1   \n",
            "4             5         0       3   \n",
            "5             6         0       3   \n",
            "6             7         0       1   \n",
            "7             8         0       3   \n",
            "8             9         1       3   \n",
            "9            10         1       2   \n",
            "10           11         1       3   \n",
            "11           12         1       1   \n",
            "12           13         0       3   \n",
            "13           14         0       3   \n",
            "14           15         0       3   \n",
            "15           16         1       2   \n",
            "16           17         0       3   \n",
            "17           18         1       2   \n",
            "18           19         0       3   \n",
            "19           20         1       3   \n",
            "\n",
            "                                                 Name     Sex   Age  SibSp  \\\n",
            "0                             Braund, Mr. Owen Harris    male  22.0      1   \n",
            "1   Cumings, Mrs. John Bradley (Florence Briggs Th...  female  38.0      1   \n",
            "2                              Heikkinen, Miss. Laina  female  26.0      0   \n",
            "3        Futrelle, Mrs. Jacques Heath (Lily May Peel)  female  35.0      1   \n",
            "4                            Allen, Mr. William Henry    male  35.0      0   \n",
            "5                                    Moran, Mr. James    male   NaN      0   \n",
            "6                             McCarthy, Mr. Timothy J    male  54.0      0   \n",
            "7                      Palsson, Master. Gosta Leonard    male   2.0      3   \n",
            "8   Johnson, Mrs. Oscar W (Elisabeth Vilhelmina Berg)  female  27.0      0   \n",
            "9                 Nasser, Mrs. Nicholas (Adele Achem)  female  14.0      1   \n",
            "10                    Sandstrom, Miss. Marguerite Rut  female   4.0      1   \n",
            "11                           Bonnell, Miss. Elizabeth  female  58.0      0   \n",
            "12                     Saundercock, Mr. William Henry    male  20.0      0   \n",
            "13                        Andersson, Mr. Anders Johan    male  39.0      1   \n",
            "14               Vestrom, Miss. Hulda Amanda Adolfina  female  14.0      0   \n",
            "15                   Hewlett, Mrs. (Mary D Kingcome)   female  55.0      0   \n",
            "16                               Rice, Master. Eugene    male   2.0      4   \n",
            "17                       Williams, Mr. Charles Eugene    male   NaN      0   \n",
            "18  Vander Planke, Mrs. Julius (Emelia Maria Vande...  female  31.0      1   \n",
            "19                            Masselmani, Mrs. Fatima  female   NaN      0   \n",
            "\n",
            "    Parch            Ticket     Fare Cabin Embarked  \n",
            "0       0         A/5 21171   7.2500   NaN        S  \n",
            "1       0          PC 17599  71.2833   C85        C  \n",
            "2       0  STON/O2. 3101282   7.9250   NaN        S  \n",
            "3       0            113803  53.1000  C123        S  \n",
            "4       0            373450   8.0500   NaN        S  \n",
            "5       0            330877   8.4583   NaN        Q  \n",
            "6       0             17463  51.8625   E46        S  \n",
            "7       1            349909  21.0750   NaN        S  \n",
            "8       2            347742  11.1333   NaN        S  \n",
            "9       0            237736  30.0708   NaN        C  \n",
            "10      1           PP 9549  16.7000    G6        S  \n",
            "11      0            113783  26.5500  C103        S  \n",
            "12      0         A/5. 2151   8.0500   NaN        S  \n",
            "13      5            347082  31.2750   NaN        S  \n",
            "14      0            350406   7.8542   NaN        S  \n",
            "15      0            248706  16.0000   NaN        S  \n",
            "16      1            382652  29.1250   NaN        Q  \n",
            "17      0            244373  13.0000   NaN        S  \n",
            "18      0            345763  18.0000   NaN        S  \n",
            "19      0              2649   7.2250   NaN        C  \n"
          ]
        }
      ]
    },
    {
      "cell_type": "markdown",
      "source": [
        "**Pre-Processing**"
      ],
      "metadata": {
        "id": "il6jvpkn3U_n"
      }
    },
    {
      "cell_type": "code",
      "execution_count": null,
      "metadata": {
        "id": "_5wRedJRxZcj",
        "colab": {
          "base_uri": "https://localhost:8080/"
        },
        "outputId": "276e23ee-6e63-4918-dc3c-860073cf3a1a"
      },
      "outputs": [
        {
          "output_type": "stream",
          "name": "stdout",
          "text": [
            "    PassengerId  Survived  Pclass  Sex   Age  SibSp  Parch     Fare  Embarked\n",
            "0             1         0       3    1  22.0      1      0   7.2500         2\n",
            "1             2         1       1    0  38.0      1      0  71.2833         0\n",
            "2             3         1       3    0  26.0      0      0   7.9250         2\n",
            "3             4         1       1    0  35.0      1      0  53.1000         2\n",
            "4             5         0       3    1  35.0      0      0   8.0500         2\n",
            "5             6         0       3    1  28.0      0      0   8.4583         1\n",
            "6             7         0       1    1  54.0      0      0  51.8625         2\n",
            "7             8         0       3    1   2.0      3      1  21.0750         2\n",
            "8             9         1       3    0  27.0      0      2  11.1333         2\n",
            "9            10         1       2    0  14.0      1      0  30.0708         0\n",
            "10           11         1       3    0   4.0      1      1  16.7000         2\n",
            "11           12         1       1    0  58.0      0      0  26.5500         2\n",
            "12           13         0       3    1  20.0      0      0   8.0500         2\n",
            "13           14         0       3    1  39.0      1      5  31.2750         2\n",
            "14           15         0       3    0  14.0      0      0   7.8542         2\n",
            "15           16         1       2    0  55.0      0      0  16.0000         2\n",
            "16           17         0       3    1   2.0      4      1  29.1250         1\n",
            "17           18         1       2    1  28.0      0      0  13.0000         2\n",
            "18           19         0       3    0  31.0      1      0  18.0000         2\n",
            "19           20         1       3    0  28.0      0      0   7.2250         0\n"
          ]
        }
      ],
      "source": [
        "from sklearn.model_selection import train_test_split\n",
        "from sklearn.preprocessing import LabelEncoder\n",
        "\n",
        "# Drop unnecessary columns\n",
        "df = df.drop(['Name', 'Ticket', 'Cabin'], axis=1)\n",
        "\n",
        "# Handling missing values\n",
        "df['Age'].fillna(df['Age'].median(), inplace=True)\n",
        "df['Embarked'].fillna(df['Embarked'].mode()[0], inplace=True)\n",
        "\n",
        "# Converting words variables to numerical values\n",
        "le = LabelEncoder()\n",
        "df['Sex'] = le.fit_transform(df['Sex'])\n",
        "df['Embarked'] = le.fit_transform(df['Embarked'])\n",
        "\n",
        "# Separate features and target\n",
        "X = df.drop('Survived', axis=1)\n",
        "y = df['Survived']\n",
        "print(df.head(20))\n",
        "\n",
        "\n"
      ]
    },
    {
      "cell_type": "code",
      "source": [
        "# Split the data into training and testing sets\n",
        "X_train, X_test, y_train, y_test = train_test_split(X, y, test_size=0.2, random_state=42)"
      ],
      "metadata": {
        "id": "g7Nz2kfaD96v"
      },
      "execution_count": null,
      "outputs": []
    },
    {
      "cell_type": "markdown",
      "source": [
        "Training with Naive Bayes"
      ],
      "metadata": {
        "id": "8Zy9HUH44G03"
      }
    },
    {
      "cell_type": "code",
      "source": [
        "from sklearn.naive_bayes import GaussianNB\n",
        "from sklearn.metrics import accuracy_score\n",
        "\n",
        "# Initialize the Naive Bayes classifier\n",
        "nb = GaussianNB()\n",
        "\n",
        "# Train the model\n",
        "nb.fit(X_train, y_train)\n",
        "\n",
        "# Predict on the test set\n",
        "y_pred_nb = nb.predict(X_test)\n",
        "\n",
        "# Evaluate the model\n",
        "accuracy_nb = accuracy_score(y_test, y_pred_nb)\n",
        "print(f'Naive Bayes Accuracy: {accuracy_nb}')\n"
      ],
      "metadata": {
        "colab": {
          "base_uri": "https://localhost:8080/"
        },
        "id": "LFjH8BOo4KjE",
        "outputId": "2356f9ad-a697-444a-f1b4-7f636cd9a2d0"
      },
      "execution_count": null,
      "outputs": [
        {
          "output_type": "stream",
          "name": "stdout",
          "text": [
            "Naive Bayes Accuracy: 0.776536312849162\n"
          ]
        }
      ]
    },
    {
      "cell_type": "markdown",
      "source": [
        "Training With KNN"
      ],
      "metadata": {
        "id": "wQTGt0fH4PzB"
      }
    },
    {
      "cell_type": "code",
      "source": [
        "from sklearn.neighbors import KNeighborsClassifier\n",
        "\n",
        "# Initialize the KNN classifier\n",
        "knn = KNeighborsClassifier(n_neighbors=6)\n",
        "\n",
        "# Train the model\n",
        "knn.fit(X_train, y_train)\n",
        "\n",
        "# Predict on the test set\n",
        "y_pred_knn = knn.predict(X_test)\n",
        "\n",
        "# Evaluate the model\n",
        "accuracy_knn = accuracy_score(y_test, y_pred_knn)\n",
        "print(f'KNN Accuracy: {accuracy_knn}')"
      ],
      "metadata": {
        "colab": {
          "base_uri": "https://localhost:8080/"
        },
        "id": "GV9fr0mF4Rua",
        "outputId": "336cbe7d-81af-44aa-c0dd-4ed48b5cc454"
      },
      "execution_count": null,
      "outputs": [
        {
          "output_type": "stream",
          "name": "stdout",
          "text": [
            "KNN Accuracy: 0.6536312849162011\n"
          ]
        }
      ]
    },
    {
      "cell_type": "markdown",
      "source": [
        "Training with Logistic Regression"
      ],
      "metadata": {
        "id": "DrynkPro4TEH"
      }
    },
    {
      "cell_type": "code",
      "source": [
        "from sklearn.linear_model import LogisticRegression\n",
        "\n",
        "# Initialize the Logistic Regression classifier\n",
        "lr = LogisticRegression(max_iter=200)\n",
        "\n",
        "# Train the model\n",
        "lr.fit(X_train, y_train)\n",
        "\n",
        "# Predict on the test set\n",
        "y_pred_lr = lr.predict(X_test)\n",
        "\n",
        "# Evaluate the model\n",
        "accuracy_lr = accuracy_score(y_test, y_pred_lr)\n",
        "print(f'Logistic Regression Accuracy: {accuracy_lr}')"
      ],
      "metadata": {
        "colab": {
          "base_uri": "https://localhost:8080/"
        },
        "id": "BFbLc2oW4YGK",
        "outputId": "61d476fd-f4a6-4358-a63b-70f3450a802f"
      },
      "execution_count": null,
      "outputs": [
        {
          "output_type": "stream",
          "name": "stdout",
          "text": [
            "Logistic Regression Accuracy: 0.8100558659217877\n"
          ]
        },
        {
          "output_type": "stream",
          "name": "stderr",
          "text": [
            "/usr/local/lib/python3.10/dist-packages/sklearn/linear_model/_logistic.py:458: ConvergenceWarning: lbfgs failed to converge (status=1):\n",
            "STOP: TOTAL NO. of ITERATIONS REACHED LIMIT.\n",
            "\n",
            "Increase the number of iterations (max_iter) or scale the data as shown in:\n",
            "    https://scikit-learn.org/stable/modules/preprocessing.html\n",
            "Please also refer to the documentation for alternative solver options:\n",
            "    https://scikit-learn.org/stable/modules/linear_model.html#logistic-regression\n",
            "  n_iter_i = _check_optimize_result(\n"
          ]
        }
      ]
    },
    {
      "cell_type": "markdown",
      "source": [
        "Training with Decision Tree"
      ],
      "metadata": {
        "id": "ov9rm-Ui4dnC"
      }
    },
    {
      "cell_type": "code",
      "source": [
        "from sklearn.tree import DecisionTreeClassifier\n",
        "\n",
        "# Initialize the Decision Tree classifier\n",
        "dt = DecisionTreeClassifier()\n",
        "\n",
        "# Train the model\n",
        "dt.fit(X_train, y_train)\n",
        "\n",
        "# Predict on the test set\n",
        "y_pred_dt = dt.predict(X_test)\n",
        "\n",
        "# Evaluate the model\n",
        "accuracy_dt = accuracy_score(y_test, y_pred_dt)\n",
        "print(f'Decision Tree Accuracy: {accuracy_dt}')"
      ],
      "metadata": {
        "colab": {
          "base_uri": "https://localhost:8080/"
        },
        "id": "6nU4XOI_4h81",
        "outputId": "c8d5e27f-8a35-43d5-854b-c2bcde5effcd"
      },
      "execution_count": null,
      "outputs": [
        {
          "output_type": "stream",
          "name": "stdout",
          "text": [
            "Decision Tree Accuracy: 0.7541899441340782\n"
          ]
        }
      ]
    },
    {
      "cell_type": "markdown",
      "source": [
        "**Checking all the performances**"
      ],
      "metadata": {
        "id": "MFzIsSh34lQ1"
      }
    },
    {
      "cell_type": "code",
      "source": [
        "print(f'Naive Bayes Accuracy: {accuracy_nb}')\n",
        "print(f'KNN Accuracy: {accuracy_knn}')\n",
        "print(f'Logistic Regression Accuracy: {accuracy_lr}')\n",
        "print(f'Decision Tree Accuracy: {accuracy_dt}')"
      ],
      "metadata": {
        "colab": {
          "base_uri": "https://localhost:8080/"
        },
        "id": "2PloUzrZ4puN",
        "outputId": "cff731a5-fc7e-42ae-9261-aff03c66c10d"
      },
      "execution_count": null,
      "outputs": [
        {
          "output_type": "stream",
          "name": "stdout",
          "text": [
            "Naive Bayes Accuracy: 0.776536312849162\n",
            "KNN Accuracy: 0.659217877094972\n",
            "Logistic Regression Accuracy: 0.8100558659217877\n",
            "Decision Tree Accuracy: 0.7541899441340782\n"
          ]
        }
      ]
    }
  ]
}